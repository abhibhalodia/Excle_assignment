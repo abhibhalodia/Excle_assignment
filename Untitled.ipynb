{
 "cells": [
  {
   "cell_type": "code",
   "execution_count": 1,
   "id": "7115dcfc",
   "metadata": {},
   "outputs": [
    {
     "name": "stdout",
     "output_type": "stream",
     "text": [
      "   sr.no  class A  class B  class C\n",
      "0      1        7        4        6\n",
      "1      2        9        3        1\n",
      "2      3        5        6        3\n",
      "3      4        8        2        5\n",
      "4      5        6        7        3\n",
      "F-score: 8.180910099889008\n",
      "p-score: 0.0016690121879002645\n"
     ]
    }
   ],
   "source": [
    "import pandas as pd\n",
    "data = pd.read_excel('abhi.Xlsx')\n",
    "print(data.head())\n",
    "from scipy.stats import stats\n",
    "f_value,p_value = stats.f_oneway(data['class A'],data['class B'],data['class C'])\n",
    "print('F-score:',f_value)\n",
    "print('p-score:',p_value)"
   ]
  },
  {
   "cell_type": "code",
   "execution_count": 3,
   "id": "b53a861a",
   "metadata": {
    "scrolled": true
   },
   "outputs": [
    {
     "name": "stdout",
     "output_type": "stream",
     "text": [
      "   sr.no  class A  class B  class C\n",
      "0      1        7        4        6\n",
      "1      2        9        3        1\n",
      "2      3        5        6        3\n",
      "3      4        8        2        5\n",
      "4      5        6        7        3\n"
     ]
    }
   ],
   "source": [
    "data = pd.read_excel('abhi.Xlsx')\n",
    "print(data.head())"
   ]
  },
  {
   "cell_type": "code",
   "execution_count": 19,
   "id": "24a737d1",
   "metadata": {},
   "outputs": [],
   "source": [
    "from scipy.stats import stats"
   ]
  },
  {
   "cell_type": "code",
   "execution_count": 20,
   "id": "2501184a",
   "metadata": {},
   "outputs": [],
   "source": [
    "f_value,p_value = stats.f_oneway(data['class A'],data['class B'],data['class C'])"
   ]
  },
  {
   "cell_type": "code",
   "execution_count": 21,
   "id": "928b3de3",
   "metadata": {},
   "outputs": [
    {
     "name": "stdout",
     "output_type": "stream",
     "text": [
      "F-score: 8.180910099889008\n"
     ]
    }
   ],
   "source": [
    "print('F-score:',f_value)"
   ]
  },
  {
   "cell_type": "code",
   "execution_count": 22,
   "id": "cda81bbe",
   "metadata": {},
   "outputs": [
    {
     "name": "stdout",
     "output_type": "stream",
     "text": [
      "p-score: 0.0016690121879002645\n"
     ]
    }
   ],
   "source": [
    "print('p-score:',p_value)"
   ]
  },
  {
   "cell_type": "code",
   "execution_count": 26,
   "id": "1d6871ad",
   "metadata": {},
   "outputs": [
    {
     "name": "stdout",
     "output_type": "stream",
     "text": [
      "None\n"
     ]
    }
   ],
   "source": []
  }
 ],
 "metadata": {
  "kernelspec": {
   "display_name": "Python 3 (ipykernel)",
   "language": "python",
   "name": "python3"
  },
  "language_info": {
   "codemirror_mode": {
    "name": "ipython",
    "version": 3
   },
   "file_extension": ".py",
   "mimetype": "text/x-python",
   "name": "python",
   "nbconvert_exporter": "python",
   "pygments_lexer": "ipython3",
   "version": "3.9.12"
  }
 },
 "nbformat": 4,
 "nbformat_minor": 5
}
